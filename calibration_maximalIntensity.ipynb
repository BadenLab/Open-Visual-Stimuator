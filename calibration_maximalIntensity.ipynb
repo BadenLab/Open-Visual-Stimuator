{
 "cells": [
  {
   "cell_type": "markdown",
   "metadata": {},
   "source": [
    "# Calibration - Maximal Intensity\n",
    "#### v2.0 | by André Maia Chagas, Katrin Franke, and Thomas Euler\n",
    "\n",
    "This script allows the user to read in spectral data from an Ocean Optics spectometer via USB (i.e. with the USB2000+ spectrometer, Ocean Optics) and convert the data into photoisomerization rates per cone photoreceptor type and LED. For details, see xxxx.\n",
    "\n",
    "The spectrometer measurements rely on the open source library [python-seabreeze](https://github.com/ap--/python-seabreeze) written by Andreas Pohlmann. This library is a wrapper for the C++ API provided by Ocean Optics. For installation instructions and further support, see there.\n",
    "\n",
    "*__Note:__ This script is used for the dichromatic (mouse) version of the visual stimulator; it can be easily adapted to other animals with more spectral sensitivites and light source/filter combinations.*"
   ]
  },
  {
   "cell_type": "code",
   "execution_count": null,
   "metadata": {},
   "outputs": [],
   "source": [
    "import os\n",
    "import math\n",
    "import numpy as np\n",
    "import matplotlib.pyplot as plt\n",
    "import matplotlib as mpl\n",
    "import seaborn as sns\n",
    "from scipy.optimize import curve_fit\n",
    "from IPython import display\n",
    "\n",
    "# Spectrometer support\n",
    "#\n",
    "import seabreeze.spectrometers as sb\n",
    "\n",
    "# Helpers\n",
    "#\n",
    "import scripts.spectrum as spectrum\n",
    "import scripts.progress_bar as pbar\n",
    "from scripts.spectrometer_helper import load_calibration_curves\n",
    "\n",
    "# Set graphics to be plotted in the notebook\n",
    "#\n",
    "%matplotlib inline \n",
    "\n",
    "# Seaborn plot settings\n",
    "#\n",
    "sns.set()\n",
    "\n",
    "# Paths and file names\n",
    "# (Don't change unless you know what you are doing)\n",
    "#\n",
    "path_LightSources   = \"light-sources//\"\n",
    "path_Filters        = \"filters//\"\n",
    "path_SpectCalibData = \"spectrometer-calibration-files//\"\n",
    "path_Data           = \"data//\"\n",
    "path_Opsins         = \"opsins//\"\n",
    "\n",
    "txtFileNewLineStr   = \"\\r\\n\"\n",
    "\n",
    "def setPlotStyle():\n",
    "    # Presettings for figures\n",
    "    #\n",
    "    mpl.rcParams['figure.figsize'] = [10, 5]\n",
    "    mpl.rc('font', size=10)          \n",
    "    mpl.rc('axes', titlesize=12)    \n",
    "    mpl.rc('axes', labelsize=12)    \n",
    "    mpl.rc('xtick', labelsize=12)   \n",
    "    mpl.rc('ytick', labelsize=12)   \n",
    "    mpl.rc('legend', fontsize=12)   \n",
    "    mpl.rc('figure', titlesize=12) "
   ]
  },
  {
   "cell_type": "markdown",
   "metadata": {},
   "source": [
    "### Define photoreceptors\n",
    "\n",
    "Load opsin spectra from text files in the respective folder:\n",
    "* Text files are expected to have one column per opsin ... \n",
    "* ... plus one (the last one) for the scaling in x direction (wavelength, in 1-nm increments).\n",
    "* All spectral files, including the filter and LED files loaded later, must have the same x range. In this version, 300 .. 699 nm is used."
   ]
  },
  {
   "cell_type": "code",
   "execution_count": null,
   "metadata": {},
   "outputs": [],
   "source": [
    "x_wavelen_nm = np.loadtxt(path_Opsins +\"mouse_cone_opsins.txt\", usecols=(2,)) # 300 .. 699 nm\n",
    "mouseMOpsin  = np.loadtxt(path_Opsins +\"mouse_cone_opsins.txt\", usecols=(1,))\n",
    "mouseSOpsin  = np.loadtxt(path_Opsins +\"mouse_cone_opsins.txt\", usecols=(0,))"
   ]
  },
  {
   "cell_type": "markdown",
   "metadata": {},
   "source": [
    "Define someproperties as well as constants needed later to convert the data measured with the spectrometer into photoisomerizations.\n",
    "\n",
    "*   `h`, Planck's constant [eV*s]\n",
    "*   `c`, speed of light [m/s]\n",
    "*   `eV_per_J`, conversion factor, [eV] per [J]\n",
    "*   `ac_um2`, cone OS light collection area in [µm^2], see [Nikonov et al., 2006](http://www.ncbi.nlm.nih.gov/pubmed/16567464) for details. This is an experimentally determined value, e.g. for wt mouse cones that is fully dark-adapted, a value of 0.2 can be assumed.\n",
    "*   `ar_um2`, rod OS light collection area, see above. A value of 0.5 is considered realistic.   \n",
    "    "
   ]
  },
  {
   "cell_type": "code",
   "execution_count": null,
   "metadata": {},
   "outputs": [],
   "source": [
    "h        = 4.135667E-15 # Planck's constant [eV*s]\n",
    "c        = 299792458    # speed of light [m/s]\n",
    "eV_per_J = 6.242E+18    # [eV] per [J]\n",
    "ac_um2   = 0.2     \n",
    "ar_um2   = 0.5"
   ]
  },
  {
   "cell_type": "markdown",
   "metadata": {},
   "source": [
    "Organise photoreceptors as a list of dictionaries, with:\n",
    "\n",
    "*   `name`, name of photoreceptor, used later for plots etc.\n",
    "*   `peak_nm`, peak wavelength of opsin spectrum in [nm]          \n",
    "*   `collecArea_um2`, see above\n",
    "*   `spect`, opsin spectrum"
   ]
  },
  {
   "cell_type": "code",
   "execution_count": null,
   "metadata": {},
   "outputs": [],
   "source": [
    "MCone = {\"name\"           : \"mouse_M_cone\",\n",
    "         \"peak_nm\"        : 511,\n",
    "         \"collecArea_um2\" : ac_um2, \n",
    "         \"spect\"          : mouseMOpsin}\n",
    "SCone = {\"name\"           : \"mouse_S_cone\",\n",
    "         \"peak_nm\"        : 360,         \n",
    "         \"collecArea_um2\" : ac_um2, \n",
    "         \"spect\"          : mouseSOpsin}\n",
    "Rod   = {\"name\"           : \"mouse_rod\",\n",
    "         \"peak_nm\"        : 510,         \n",
    "         \"collecArea_um2\" : ar_um2, \n",
    "         \"spect\"          : []}\n",
    "\n",
    "PRs   = [MCone, SCone, Rod]"
   ]
  },
  {
   "cell_type": "markdown",
   "metadata": {},
   "source": [
    "Plot cone photoreceptor spectra:"
   ]
  },
  {
   "cell_type": "code",
   "execution_count": null,
   "metadata": {},
   "outputs": [],
   "source": [
    "setPlotStyle()\n",
    "\n",
    "for PR in PRs:\n",
    "    if len(PR[\"spect\"]) > 0:\n",
    "        col = spectrum.wavelength_to_rgb(PR[\"peak_nm\"], darker=0.75)\n",
    "        plt.plot(x_wavelen_nm, PR[\"spect\"], color=col, label=PR[\"name\"])\n",
    "\n",
    "plt.gca().set(xlabel=\"wavelength [nm]\", ylabel=\"rel. sensitivity\") \n",
    "plt.legend(bbox_to_anchor=(1.01, 1), loc=\"upper left\")"
   ]
  },
  {
   "cell_type": "markdown",
   "metadata": {},
   "source": [
    "### Define stimulus LED/filter combinations \n",
    "Load LED and filter (dicroic) spectra from text files in the respective folder. Files are expected to be organised as the photoreceptor data files except that they contain only two columns (wavelength, from 300 to 699 nm in 1-nm increments; relative transmission for filters and relative intensity for light sources)."
   ]
  },
  {
   "cell_type": "code",
   "execution_count": null,
   "metadata": {},
   "outputs": [],
   "source": [
    "# LED spectra\n",
    "#\n",
    "LED_Green_Name      = \"LED_Green_590\"\n",
    "LED_Green           = np.loadtxt(path_LightSources +LED_Green_Name +\".txt\", usecols=(0,))\n",
    "LED_UV_Name         = \"LED_UV_385\"\n",
    "LED_UV              = np.loadtxt(path_LightSources +LED_UV_Name +\".txt\", usecols=(0,))\n",
    "\n",
    "# Dicroic above the objective lens in the MOM\n",
    "# (if not used, comment line that loads text file and uncomment next line)\n",
    "#\n",
    "Dichr_Obj_name     = \"Filter_F73-063_z400-580-890\"\n",
    "Dichr_Obj          = np.loadtxt(path_Filters +Dichr_Obj_name +\".txt\", usecols=(0,))\n",
    "#Dichr_Obj         = np.array(list([1.0]*len(LED_UV)))"
   ]
  },
  {
   "cell_type": "markdown",
   "metadata": {},
   "source": [
    "... if one filter per LED is used, uncomment this part.\n"
   ]
  },
  {
   "cell_type": "code",
   "execution_count": null,
   "metadata": {},
   "outputs": [],
   "source": [
    "%%capture\n",
    "# LED filter(s)\n",
    "#\n",
    "Filter_UV_Name      = \"Filter_387_11\"\n",
    "Filter_UV           = np.loadtxt(path_Filters +Filter_UV_Name +\".txt\", usecols=(0,))\n",
    "Filter_Green_Name   = \"Filter_576_10\"\n",
    "Filter_Green        = np.loadtxt(path_Filters +Filter_Green_Name +\".txt\", usecols=(0,))"
   ]
  },
  {
   "cell_type": "markdown",
   "metadata": {},
   "source": [
    "... if a dual-band filter is used, uncomment this part. Then the same filter is used for both LEDs."
   ]
  },
  {
   "cell_type": "code",
   "execution_count": null,
   "metadata": {},
   "outputs": [],
   "source": [
    "%%capture\n",
    "# LED filter(s)\n",
    "# (here, one two-band-pass filter is used instead of one for each LED. Therefore,)\n",
    "#\n",
    "\"\"\"\n",
    "Filter_UVGreen_name = \"Filter_F59-003_390_575\"\n",
    "Filter_UV           = np.loadtxt(path_Filters +Filter_UVGreen_name +\".txt\", usecols=(0,))\n",
    "Filter_Green        = np.loadtxt(path_Filters +Filter_UVGreen_name +\".txt\", usecols=(0,))\n",
    "\"\"\""
   ]
  },
  {
   "cell_type": "markdown",
   "metadata": {},
   "source": [
    "Organise the LED/filter combinations and spectra as a list of dictionary, with:  \n",
    "*   `name`, name of LED/filter combinations, used later for plots etc.\n",
    "*   `peak_nm`, peak wavelength of LED/filter combination in [nm]          \n",
    "*   `LED_spect`, spectrum of LED (same x range as the opsin spectra, that is from 300 to 699 nm, and with 1-nm resolution).\n",
    "*   `filter_spect`, spectrum of filter\n",
    "*   `spect`, resulting spectrum, is measured below\n",
    "*   `spect_nw`, **???**\n",
    "*   `spect_raw_bkg`, mean background spectrum (LED off or at minimum)\n",
    "*   `spect_raw`, spectrum of LED at maximum, all trials\n",
    "*   `spect_raw_avg`, mean spectrum of LED at maximum"
   ]
  },
  {
   "cell_type": "code",
   "execution_count": null,
   "metadata": {},
   "outputs": [],
   "source": [
    "minWLen_nm              = 300\n",
    "maxWLen_nm              = 699\n",
    "n                       = maxWLen_nm -minWLen_nm +1\n",
    "x_wavelen_nm            = np.array([v+minWLen_nm for v in range(n)])\n",
    "\n",
    "spectrum_green_nw_norm  = None\n",
    "spectrum_green_nw       = None\n",
    "spectrum_green_raw_bkg  = None\n",
    "spectrum_green_raw      = None\n",
    "spectrum_green_raw_avg  = None\n",
    "\n",
    "GrLED = {\"name\"         : \"green\",\n",
    "         \"peak_nm\"      : 576,\n",
    "         \"bandwidth_nm\" : 0,\n",
    "         \"LED_spect\"    : LED_Green,\n",
    "         \"filter_spect\" : Filter_Green, \n",
    "         \"spect\"        : spectrum_green_nw_norm,\n",
    "         \"spect_nw\"     : spectrum_green_nw,\n",
    "         \"spect_raw_bkg\": spectrum_green_raw_bkg,\n",
    "         \"spect_raw\"    : spectrum_green_raw,\n",
    "         \"spect_raw_avg\": spectrum_green_raw_avg}\n",
    "\n",
    "spectrum_uv_nw_norm     = None\n",
    "spectrum_uv_nw          = None\n",
    "spectrum_uv_raw_bkg     = None\n",
    "spectrum_uv_raw         = None\n",
    "spectrum_uv_raw_avg     = None\n",
    "\n",
    "UVLED = {\"name\"         : \"UV\",\n",
    "         \"peak_nm\"      : 387,\n",
    "         \"bandwidth_nm\" : 0,\n",
    "         \"LED_spect\"    : LED_UV,\n",
    "         \"filter_spect\" : Filter_UV,\n",
    "         \"spect\"        : spectrum_uv_nw_norm,\n",
    "         \"spect_raw_bkg\": spectrum_uv_raw_bkg,\n",
    "         \"spect_raw\"    : spectrum_uv_raw,\n",
    "         \"spect_raw_avg\": spectrum_uv_raw_avg}\n",
    "\n",
    "LEDs  = [GrLED, UVLED]"
   ]
  },
  {
   "cell_type": "markdown",
   "metadata": {},
   "source": [
    "Plot theoretical spectra of LED/filter combinations:"
   ]
  },
  {
   "cell_type": "code",
   "execution_count": null,
   "metadata": {},
   "outputs": [],
   "source": [
    "for LED in LEDs:  \n",
    "    colLED_lo = spectrum.wavelength_to_rgb(LED[\"peak_nm\"], darker=0.5)\n",
    "    colLED_hi = spectrum.wavelength_to_rgb(LED[\"peak_nm\"], darker=0.8)\n",
    "    plt.plot(x_wavelen_nm, LED[\"LED_spect\"], color=colLED_lo, \n",
    "             label=\"LED_\" +LED[\"name\"], linewidth=0.5)\n",
    "    plt.plot(x_wavelen_nm, LED[\"filter_spect\"], color=colLED_hi, \n",
    "             label=\"Filter_\" +LED[\"name\"], linewidth=1)\n",
    "    plt.fill(x_wavelen_nm, LED[\"LED_spect\"], facecolor=colLED_hi, alpha=0.25)    \n",
    "    \n",
    "plt.gca().set(xlabel=\"wavelength [nm]\", ylabel=\"\") \n",
    "plt.legend(bbox_to_anchor=(1.01, 1), loc=\"upper left\")"
   ]
  },
  {
   "cell_type": "markdown",
   "metadata": {},
   "source": [
    "Plot theoretical spectra of LED/filter combinations together with cone photoreceptors:"
   ]
  },
  {
   "cell_type": "code",
   "execution_count": null,
   "metadata": {},
   "outputs": [],
   "source": [
    "for LED in LEDs:  \n",
    "    col_lo = spectrum.wavelength_to_rgb(LED[\"peak_nm\"], darker=0.5)\n",
    "    col_hi = spectrum.wavelength_to_rgb(LED[\"peak_nm\"], darker=0.8)\n",
    "    plt.plot(x_wavelen_nm, LED[\"LED_spect\"], color=col_lo, \n",
    "             label=\"LED_\" +LED[\"name\"], linewidth=0.5)\n",
    "    plt.fill(x_wavelen_nm, LED[\"LED_spect\"], facecolor=col_hi, alpha=0.25)        \n",
    "    plt.plot(x_wavelen_nm, LED[\"filter_spect\"], color=col_hi, \n",
    "             label=\"Filter_\" +LED[\"name\"], linewidth=1)\n",
    "    \n",
    "for PR in PRs:\n",
    "    if len(PR[\"spect\"]) > 0:\n",
    "        col = spectrum.wavelength_to_rgb(PR[\"peak_nm\"], darker=0.75)\n",
    "        plt.plot(x_wavelen_nm, PR[\"spect\"], color=col, label=PR[\"name\"])\n",
    "\n",
    "plt.gca().set(xlabel=\"wavelength [nm]\", ylabel=\"\") \n",
    "plt.legend(bbox_to_anchor=(1.01, 1), loc=\"upper left\")"
   ]
  },
  {
   "cell_type": "markdown",
   "metadata": {},
   "source": [
    "### Import calibration file for spectrometer\n",
    "For each wavelength, the file contains corresponding [µJ/count] correlation, which will be used to calibrate the readings from the spectrometer.  \n",
    "*__Note:__ These files need to be obtained for each individual device.*"
   ]
  },
  {
   "cell_type": "code",
   "execution_count": null,
   "metadata": {},
   "outputs": [],
   "source": [
    "spm_fileName     = path_SpectCalibData +\"USB2+F02461_20171108_CC.Irradcal\" \n",
    "spm_serialNumber = \"USB2+F02461\"\n",
    "\n",
    "(spm_calib_values, \n",
    " spm_calib_wavelengths) = load_calibration_curves(spm_fileName, spm_serialNumber)"
   ]
  },
  {
   "cell_type": "markdown",
   "metadata": {},
   "source": [
    "Plot spectometer calibration curve"
   ]
  },
  {
   "cell_type": "code",
   "execution_count": null,
   "metadata": {},
   "outputs": [],
   "source": [
    "plt.plot(spm_calib_wavelengths, spm_calib_values, color=\"black\", label=spm_serialNumber)\n",
    "plt.gca().set(xlabel=\"Wavelength [nm]\", ylabel=\"[µJ/count]\")     \n",
    "plt.legend(bbox_to_anchor=(1.01, 1), loc=\"upper left\")"
   ]
  },
  {
   "cell_type": "markdown",
   "metadata": {},
   "source": [
    "### Connect and setup the spectrometer\n",
    "Select the device using its serial number and set the integration time in [µs]. To obtain [µJ/s], use 1 s.  \n",
    "*__Note:__ The integration time should be changed if output is saturated.*\n"
   ]
  },
  {
   "cell_type": "code",
   "execution_count": null,
   "metadata": {},
   "outputs": [],
   "source": [
    "try:\n",
    "    # Connect to device\n",
    "    #\n",
    "    spectrometer = sb.Spectrometer.from_serial_number(spm_serialNumber)\n",
    "     \n",
    "    # Set integration time\n",
    "    #\n",
    "    int_time_ms = 1.0 *1E6 \n",
    "    spectrometer.integration_time_micros(int_time_ms)\n",
    "\n",
    "    # Configure device not to wait for triggers\n",
    "    #\n",
    "    spectrometer.trigger_mode(0)  \n",
    "    \n",
    "    print(\"SUCCESS\")\n",
    "    \n",
    "except sb.SeaBreezeError as Err:\n",
    "    print(\"ERROR:\", Err)\n",
    "except NameError:\n",
    "    print(\"Could not connect to spectrometer\")\n",
    "    \n",
    "# Number of trials for measuring background and LED spectra for averaging\n",
    "#\n",
    "trials_background = 10 \n",
    "trials_spectra    = 10    "
   ]
  },
  {
   "cell_type": "markdown",
   "metadata": {},
   "source": [
    "### Record spectra of light sources\n",
    "Prepare the measurements and when ready, press Enter. For each LED (light source), first the background spectrum (i.e. LED off or at minimum intensity) and then the spectrum for maximal (or the chosen) intensity is recorded. The recorded mean spectra together with the wavelengts are written to a text file, one per LED. By chosing the name of an existing set of files (`fileNameMask`) in the folder `data//`, no measurements are taking place and instead the data of that earlier recording is loaded."
   ]
  },
  {
   "cell_type": "code",
   "execution_count": null,
   "metadata": {},
   "outputs": [],
   "source": [
    "fileNameMask = \"TFTMonitor_Samsung_10trials\"\n",
    "\n",
    "for iLED, LED in enumerate(LEDs):\n",
    "    # Check if file with the mask given above does already exist\n",
    "    #\n",
    "    fName         = \"{0}{1}_{2}.txt\".format(path_Data, fileNameMask, LED[\"name\"])\n",
    "    doesFileExist = os.path.isfile(fName)\n",
    "    \n",
    "    # Define colors for the current LED\n",
    "    #\n",
    "    col_lo = spectrum.wavelength_to_rgb(LED[\"peak_nm\"], darker=0.5)\n",
    "    col_hi = spectrum.wavelength_to_rgb(LED[\"peak_nm\"], darker=0.8)\n",
    "\n",
    "    # LED background:\n",
    "    #\n",
    "    if not doesFileExist:\n",
    "        # Measure ...\n",
    "        #\n",
    "        input(\"Measure background of {0} LED. Press Enter to start ...\".format(LED[\"name\"]))\n",
    "        curr_background = []    \n",
    "        for i in pbar.log_progress(range(trials_background), name='Background, {0} LED'.format(LED[\"name\"])):\n",
    "            wavelengths, intensities = spectrometer.spectrum()\n",
    "            curr_background.append(intensities)\n",
    "        LED[\"spect_raw_bkg\"] = np.mean(curr_background, axis=0)\n",
    "    \n",
    "    else:\n",
    "        # ... or read data from file\n",
    "        #\n",
    "        if i == 0:\n",
    "            wavelengths = np.loadtxt(fName, usecols=(0,))    \n",
    "        LED[\"spect_raw_bkg\"] = np.loadtxt(fName, usecols=(1,))\n",
    "\n",
    "    # Plot ...\n",
    "    #\n",
    "    plt.figure(1)  \n",
    "    plt.plot(wavelengths, LED[\"spect_raw_bkg\"], color=col_lo, label=LED[\"name\"] +\" LED, background\")\n",
    "    plt.gca().set(xlabel=\"Wavelength [nm]\", ylabel=\"Counts (raw spectrometer output)\")     \n",
    "    plt.legend(bbox_to_anchor=(1.01, 1), loc=\"upper left\")   \n",
    "    display.display(plt.gcf())\n",
    "    display.clear_output(wait=True)\n",
    "    \n",
    "    # LED at maximal intensity:\n",
    "    #\n",
    "    if not(os.path.isfile(fName)):\n",
    "        # Measure ...\n",
    "        #\n",
    "        input(\"Prepare to measure maximal intensity {0} LED. Press Enter to continue...\".format(LED[\"name\"]))\n",
    "        curr_spectrum    = []\n",
    "        LED[\"spect_raw\"] = []\n",
    "        for i in pbar.log_progress(range(trials_spectra), name='Maximal intensity, {0} LED'.format(LED[\"name\"])):\n",
    "            wavelengths, intensities = spectrometer.spectrum()\n",
    "            curr_spectrum = intensities -LED[\"spect_raw_bkg\"]\n",
    "            LED[\"spect_raw\"].append(curr_spectrum)\n",
    "        LED[\"spect_raw_avg\"] = np.mean(LED[\"spect_raw\"], axis=0)    \n",
    "    \n",
    "    else:\n",
    "        # .. or read data from file\n",
    "        #\n",
    "        LED[\"spect_raw_avg\"] = np.loadtxt(fName, usecols=(2,))\n",
    "    \n",
    "    # Plot ...\n",
    "    #\n",
    "    plt.figure(2) \n",
    "    plt.plot(wavelengths, LED[\"spect_raw_avg\"], color=col_hi, label=LED[\"name\"] +\" LED, maximal intensity\")\n",
    "    plt.fill(wavelengths, LED[\"spect_raw_avg\"], facecolor=col_hi, alpha=0.25)        \n",
    "    plt.gca().set(xlabel=\"Wavelength [nm]\", ylabel=\"Counts (raw spectrometer output)\")     \n",
    "    plt.legend(bbox_to_anchor=(1.01, 1), loc=\"upper left\")   \n",
    "    display.display(plt.gcf())\n",
    "    display.clear_output(wait=True)\n",
    "    \n",
    "    # Save data for the current LED\n",
    "    #\n",
    "    if len(fileNameMask) > 0:\n",
    "        np.savetxt(fName, np.transpose([wavelengths, LED[\"spect_raw_bkg\"], LED[\"spect_raw_avg\"]]),\n",
    "                   header=\"wavelength\\traw_bkg\\traw_avg\", newline=txtFileNewLineStr)    "
   ]
  },
  {
   "cell_type": "markdown",
   "metadata": {},
   "source": [
    "#### Gauss fit spectra"
   ]
  },
  {
   "cell_type": "code",
   "execution_count": null,
   "metadata": {},
   "outputs": [],
   "source": [
    "led_width = 10\n",
    "\n",
    "def Gauss(x, a, x0, sigma):\n",
    "    return a * np.exp(-(x - x0)**2 / (2 * sigma**2))\n",
    "\n",
    "led_peak_uv = 387\n",
    "x = wavelengths\n",
    "y = spectrum_uv\n",
    "a = y.max()\n",
    "mean = led_peak_uv\n",
    "sigma = led_width\n",
    "\n",
    "popt, pcov = curve_fit(Gauss,x,y,p0=[a,mean,sigma])\n",
    "fit_spectrum_uv = Gauss(x,popt[0],popt[1],popt[2])\n",
    "\n",
    "led_peak_green = 576\n",
    "x = wavelengths\n",
    "y = spectrum_green\n",
    "a = y.max()\n",
    "mean = led_peak_green\n",
    "sigma = led_width\n",
    "\n",
    "popt, pcov = curve_fit(Gauss,x,y,p0=[a,mean,sigma])\n",
    "fit_spectrum_green = Gauss(x,popt[0],popt[1],popt[2])\n",
    "\n",
    "plt.plot(wavelengths[0:800],spectrum_green[0:800],color=\"g\",label=\"Spectrum green LED\")\n",
    "plt.plot(wavelengths[0:800],fit_spectrum_green[0:800],color=\"r\",label=\"Gauss fits\")\n",
    "plt.plot(wavelengths[0:800],spectrum_uv[0:800],color=\"b\",label=\"Spectrum UV LED\")\n",
    "plt.plot(wavelengths[0:800],fit_spectrum_uv[0:800],color=\"r\")\n",
    "plt.legend(bbox_to_anchor=(1.01, 1), loc=\"upper left\")\n",
    "plt.xlabel(\"Wavelength (nm)\")\n",
    "plt.ylabel(\"Counts (raw output of spectrometer)\")"
   ]
  },
  {
   "cell_type": "code",
   "execution_count": null,
   "metadata": {},
   "outputs": [],
   "source": [
    "... print LED spectra"
   ]
  },
  {
   "cell_type": "code",
   "execution_count": null,
   "metadata": {},
   "outputs": [],
   "source": [
    "for LED in LEDs:  \n",
    "    colLED_lo = spectrum.wavelength_to_rgb(LED[\"peak_nm\"], darker=0.5)\n",
    "    colLED_hi = spectrum.wavelength_to_rgb(LED[\"peak_nm\"], darker=0.8)\n",
    "    plt.plot(x_wavelen_nm, LED[\"LED_spect\"], color=colLED_lo, label=\"LED_\" +LED[\"name\"], linewidth=0.5)\n",
    "    plt.plot(x_wavelen_nm, LED[\"filter_spect\"], color=colLED_hi, label=\"Filter_\" +LED[\"name\"], linewidth=1)\n",
    "    plt.fill(x_wavelen_nm, LED[\"LED_spect\"], facecolor=colLED_hi, alpha=0.25)    \n",
    "    #plt.plot(x_wavelen_nm, LED[\"spect\"], color=colLED, label=\"Spectrum_\" +LED[\"name\"])\n",
    "    \n",
    "plt.legend(bbox_to_anchor=(1.01, 1), loc=\"upper left\")\n",
    "plt.xlabel(\"Wavelength (nm)\")\n",
    "plt.ylabel(\"\")"
   ]
  },
  {
   "cell_type": "markdown",
   "metadata": {},
   "source": [
    "### WHERE?\n",
    "\n",
    "Define the device detection area in [µm²].  \n",
    "*__Note::__ ??????*"
   ]
  },
  {
   "cell_type": "code",
   "execution_count": null,
   "metadata": {},
   "outputs": [],
   "source": [
    "r_stimulus_um = 250\n",
    "A_detect_um2  = math.pi*(r_stimulus_um)**2"
   ]
  },
  {
   "cell_type": "markdown",
   "metadata": {},
   "source": [
    "#### Transform counts into Watts"
   ]
  },
  {
   "cell_type": "code",
   "execution_count": null,
   "metadata": {
    "scrolled": true
   },
   "outputs": [],
   "source": [
    "uv_nw = (np.multiply(fit_spectrum_uv,calib_values)/int_time_s)*1000\n",
    "green_nw = (np.multiply(fit_spectrum_green,calib_values)/int_time_s)*1000\n",
    "\n",
    "# resample spectra to 300...700 nm\n",
    "start_nm = int(round(wavelengths[1]))\n",
    "spectrum_uv_nw = list()\n",
    "spectrum_green_nw = list()\n",
    "\n",
    "for iS in range(700-300):\n",
    "    if iS < (start_nm-300):\n",
    "        spectrum_uv_nw.append(0)\n",
    "        spectrum_green_nw.append(0)\n",
    "    elif iS >= 39:\n",
    "        index = np.where(wavelengths>=(300+iS))\n",
    "        spectrum_uv_nw.append(uv_nw[index[0][0]])\n",
    "    \n",
    "        index = np.where(wavelengths>=(300+iS))\n",
    "        spectrum_green_nw.append(green_nw[index[0][0]])\n",
    "\n",
    "ymax = np.amax(spectrum_uv_nw)\n",
    "spectrum_uv_nw_norm = spectrum_uv_nw/ymax\n",
    "spectrum_uv_nw = np.array(spectrum_uv_nw, dtype=float)\n",
    "spectrum_uv_nw_norm = np.array(spectrum_uv_nw_norm, dtype=float)\n",
    "\n",
    "ymax = np.amax(spectrum_green_nw)\n",
    "spectrum_green_nw_norm = spectrum_green_nw/ymax\n",
    "spectrum_green_nw = np.array(spectrum_green_nw, dtype=float)\n",
    "spectrum_green_nw_norm = np.array(spectrum_green_nw_norm, dtype=float)\n",
    "\n",
    "plt.plot(wavelengths[0:800],uv_nw[0:800],color=\"b\",label=\"UV LED\")\n",
    "plt.plot(wavelengths[0:800],green_nw[0:800],color=\"g\",label=\"green LED\")\n",
    "plt.xlabel(\"Wavelength (nm)\")\n",
    "plt.ylabel(\"nWatts\")\n",
    "plt.legend(bbox_to_anchor=(1.01, 1), loc=\"upper left\")\n",
    "\n",
    "print(np.sum(spectrum_green_nw))\n",
    "print(np.sum(spectrum_uv_nw))\n",
    "\n"
   ]
  },
  {
   "cell_type": "markdown",
   "metadata": {},
   "source": [
    "# Determine effective photoreceptor stimulation\n",
    "\n",
    "### Calculate spectra for effective LED/filter combinations "
   ]
  },
  {
   "cell_type": "code",
   "execution_count": null,
   "metadata": {},
   "outputs": [],
   "source": [
    "for LED in LEDs:\n",
    "    LED[\"effect_on_PR\"] = []\n",
    "    for PR in PRs:\n",
    "        if len(PR[\"spect\"]) > 0:\n",
    "            temp = {}\n",
    "            temp[\"PR_name\"] = PR[\"name\"]\n",
    "            temp[\"spect\"]   = PR[\"spect\"] * LED[\"spect\"]\n",
    "            #A_PR            = np.trapz(PR[\"spect\"])\n",
    "            A_overlap       = np.trapz(temp[\"spect\"])\n",
    "            A_LED           = np.trapz(LED[\"spect\"]) \n",
    "            temp[\"rel_exc\"] = A_overlap/A_LED\n",
    "            LED[\"effect_on_PR\"].append(temp)"
   ]
  },
  {
   "cell_type": "markdown",
   "metadata": {},
   "source": [
    "Plot spectra of photoreceptors and LED/filter combinations"
   ]
  },
  {
   "cell_type": "code",
   "execution_count": null,
   "metadata": {},
   "outputs": [],
   "source": [
    "for PR in PRs:\n",
    "    if len(PR[\"spect\"]) > 0:\n",
    "        plt.plot(x_wavelen_nm, PR[\"spect\"], \n",
    "                 color=scl.wavelength_to_rgb(PR[\"peak_nm\"]), label=PR[\"name\"])\n",
    "        \n",
    "for LED in LEDs:        \n",
    "    if len(LED[\"spect\"]) > 0:    \n",
    "        colLED = scl.wavelength_to_rgb(LED[\"peak_nm\"])\n",
    "        plt.plot(x_wavelen_nm, LED[\"spect\"], color=colLED, label=\"LED_\" +LED[\"name\"])\n",
    "        for effect in LED[\"effect_on_PR\"]:\n",
    "            for PR in PRs:\n",
    "                if PR[\"name\"] == effect[\"PR_name\"]:\n",
    "                    colPR = scl.wavelength_to_rgb(PR[\"peak_nm\"])\n",
    "            plt.fill(x_wavelen_nm, effect[\"spect\"], facecolor=colPR, alpha=0.25)    \n",
    "\n",
    "#sns.axlabel(\"wavelength [nm]\", \"rel. sensitivity or norm. transmission\")     \n",
    "plt.legend(bbox_to_anchor=(1.01, 1), loc=\"upper left\")\n",
    "\n",
    "# Print co-excitation values for all LED/filter and photoreceptor combinations\n",
    "#\n",
    "print(\"Relative co-excitation:\")\n",
    "for LED in LEDs:        \n",
    "    if len(LED[\"spect\"]) > 0:    \n",
    "        for effect in LED[\"effect_on_PR\"]:\n",
    "            print(\"{0:6.1f}% of {1} by {2}\"\n",
    "                  .format(effect[\"rel_exc\"]*100, effect[\"PR_name\"], LED[\"name\"]))    "
   ]
  },
  {
   "cell_type": "markdown",
   "metadata": {},
   "source": [
    "Calculate photo-isomerization rates for all LED/filter and photoreceptor combinations"
   ]
  },
  {
   "cell_type": "code",
   "execution_count": null,
   "metadata": {
    "scrolled": true
   },
   "outputs": [],
   "source": [
    "for iLED, LED in enumerate(LEDs):\n",
    "    # Convert energy flux from [nW] (=readout of photometer, in [nW]) into [eV/s]\n",
    "    #\n",
    "    LED[\"pow_eflux\"] = np.array((LED[\"spect_nw\"] *1E-9 *eV_per_J),dtype=float)\n",
    "    # Calculate the wavelength-dependent photon energy `Q` in [eV]\n",
    "    #\n",
    "    LED[\"pow_Q\"]     = np.array((c*h/(x_wavelen_nm*1E-9)),dtype=float)\n",
    "    # Divide energy flux by the photon energy to get the photon flux `phi`[photons/s] \n",
    "    # and then photon flux density `E` [photons/s /µm^2]\n",
    "    #\n",
    "    LED[\"pow_phi\"]   = np.divide(LED[\"pow_eflux\"],LED[\"pow_Q\"])\n",
    "    LED[\"pow_E\"]     = LED[\"pow_phi\"]/A_detect_um2\n",
    "    # Calculate per photoreceptor ...\n",
    "    #\n",
    "    for effect in LED[\"effect_on_PR\"]:\n",
    "        for iPR, PR in enumerate(PRs):\n",
    "            if PR[\"name\"] == effect[\"PR_name\"]:\n",
    "                # ... photon flux per photoreceptor `photon_rate` in [photons/s]\n",
    "                #\n",
    "                A_collect = PR[\"collecArea_um2\"]\n",
    "                effect[\"photon_rate\"]   = LED[\"pow_E\"] *A_collect                \n",
    "                # ... photoisomerizations [P*/photoreceptor /s]\n",
    "                #\n",
    "                effect[\"photoiso_rate\"] = effect[\"photon_rate\"] *effect[\"rel_exc\"]\n",
    "                effect[\"photoiso_rate_total\"] = np.sum(effect[\"photoiso_rate\"])\n",
    "                plt.plot(effect[\"photoiso_rate\"])\n",
    "                if (iLED == 0) and (iPR == 0): \n",
    "                    print(\"Range of photoisomerization rates:\")\n",
    "                print(\"{0:5.1f} .. {1:5.1f} 10^3 photons/s in {2} for {3}\"\n",
    "                     .format(effect[\"photoiso_rate_total\"]/1000.0, \n",
    "                             effect[\"photoiso_rate_total\"]/1000.0, PR[\"name\"], LED[\"name\"]))"
   ]
  },
  {
   "cell_type": "code",
   "execution_count": null,
   "metadata": {},
   "outputs": [],
   "source": [
    "txtFileNewLineStr = \"\\r\\n\"\n",
    "np.savetxt(pathData + \"SpectrumGreen_nW.txt\", green_nw, fmt=\"%1.3f\", delimiter=', ', newline=txtFileNewLineStr)\n",
    "np.savetxt(pathData + \"SpectrumUV_nW.txt\", uv_nw, fmt=\"%1.3f\", delimiter=', ', newline=txtFileNewLineStr)\n",
    "np.savetxt(pathData + \"Waveltngths.txt\", wavelengths, fmt=\"%1.3f\", delimiter=', ', newline=txtFileNewLineStr)\n",
    "np.savetxt(pathData + \"SpectraGreen.txt\", current_spectra_green, fmt=\"%1.3f\", delimiter=', ', newline=txtFileNewLineStr)\n",
    "np.savetxt(pathData + \"SpectraUV.txt\", current_spectra, fmt=\"%1.3f\", delimiter=', ', newline=txtFileNewLineStr)\n"
   ]
  },
  {
   "cell_type": "code",
   "execution_count": null,
   "metadata": {},
   "outputs": [],
   "source": []
  },
  {
   "cell_type": "code",
   "execution_count": null,
   "metadata": {},
   "outputs": [],
   "source": []
  },
  {
   "cell_type": "code",
   "execution_count": null,
   "metadata": {},
   "outputs": [],
   "source": []
  },
  {
   "cell_type": "code",
   "execution_count": null,
   "metadata": {},
   "outputs": [],
   "source": []
  },
  {
   "cell_type": "code",
   "execution_count": null,
   "metadata": {},
   "outputs": [],
   "source": []
  },
  {
   "cell_type": "code",
   "execution_count": null,
   "metadata": {},
   "outputs": [],
   "source": []
  },
  {
   "cell_type": "code",
   "execution_count": null,
   "metadata": {},
   "outputs": [],
   "source": []
  },
  {
   "cell_type": "code",
   "execution_count": null,
   "metadata": {},
   "outputs": [],
   "source": []
  },
  {
   "cell_type": "code",
   "execution_count": null,
   "metadata": {},
   "outputs": [],
   "source": []
  }
 ],
 "metadata": {
  "kernelspec": {
   "display_name": "Python 3",
   "language": "python",
   "name": "python3"
  },
  "language_info": {
   "codemirror_mode": {
    "name": "ipython",
    "version": 3
   },
   "file_extension": ".py",
   "mimetype": "text/x-python",
   "name": "python",
   "nbconvert_exporter": "python",
   "pygments_lexer": "ipython3",
   "version": "3.6.4"
  }
 },
 "nbformat": 4,
 "nbformat_minor": 2
}
