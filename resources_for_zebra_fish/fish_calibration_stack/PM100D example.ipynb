{
 "cells": [
  {
   "cell_type": "markdown",
   "metadata": {},
   "source": [
    "We are using the current python library to interact with the PM100D powermeter:\n",
    "https://pythonhosted.org/ThorlabsPM100/index.html  \n",
    "\n",
    "\n",
    "below is a small write up how to connect to it and control it."
   ]
  },
  {
   "cell_type": "code",
   "execution_count": 1,
   "metadata": {},
   "outputs": [],
   "source": [
    "#import libraries\n",
    "import visa\n",
    "from ThorlabsPM100 import ThorlabsPM100\n"
   ]
  },
  {
   "cell_type": "code",
   "execution_count": 2,
   "metadata": {},
   "outputs": [
    {
     "name": "stderr",
     "output_type": "stream",
     "text": [
      "D:\\Continuum\\Anaconda3\\lib\\site-packages\\pyvisa\\resources\\messagebased.py:573: FutureWarning: ask is deprecated and will be removed in 1.10, use query instead.\n",
      "  '1.10, use query instead.', FutureWarning)\n"
     ]
    }
   ],
   "source": [
    "#get what powermeter is connected\n",
    "\n",
    "rm = visa.ResourceManager()\n",
    "connected = rm.list_resources()[0]\n",
    "inst = rm.open_resource(connected,\n",
    "                         timeout=1)\n",
    "power_meter = ThorlabsPM100(inst=inst)\n",
    "\n",
    "#set the wavelength to be measured\n",
    "power_meter.sense.correction.wavelength = 600\n",
    "\n",
    "#make a reading (data is output in watts)\n",
    "data = power_meter.read\n",
    "\n",
    "#convert it to nanowatts\n",
    "conv = data*1000000000"
   ]
  },
  {
   "cell_type": "code",
   "execution_count": 3,
   "metadata": {},
   "outputs": [
    {
     "data": {
      "text/plain": [
       "21842.0828"
      ]
     },
     "execution_count": 3,
     "metadata": {},
     "output_type": "execute_result"
    }
   ],
   "source": []
  },
  {
   "cell_type": "code",
   "execution_count": null,
   "metadata": {},
   "outputs": [],
   "source": []
  }
 ],
 "metadata": {
  "kernelspec": {
   "display_name": "Python 3",
   "language": "python",
   "name": "python3"
  },
  "language_info": {
   "codemirror_mode": {
    "name": "ipython",
    "version": 3
   },
   "file_extension": ".py",
   "mimetype": "text/x-python",
   "name": "python",
   "nbconvert_exporter": "python",
   "pygments_lexer": "ipython3",
   "version": "3.6.6"
  }
 },
 "nbformat": 4,
 "nbformat_minor": 2
}
